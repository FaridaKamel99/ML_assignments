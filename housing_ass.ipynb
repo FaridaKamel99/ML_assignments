{
 "cells": [
  {
   "cell_type": "code",
   "execution_count": 118,
   "metadata": {},
   "outputs": [],
   "source": [
    "import pandas as pd\n",
    "import seaborn as sns\n",
    "import random\n",
    "import matplotlib.pyplot as plt\n",
    "from sklearn.linear_model import ElasticNet\n",
    "from sklearn.linear_model import LinearRegression\n",
    "from sklearn.model_selection import train_test_split\n",
    "from sklearn.preprocessing import PolynomialFeatures\n",
    "from sklearn.preprocessing import StandardScaler\n",
    "from sklearn.metrics import mean_squared_error\n",
    "import numpy as np\n",
    "heads=[\"CRIM\",\"ZN\", \"INDUS\",\"CHAS\",\"NOX\",\"RM\",\"AGE\",\"DIS\",\"RAD\",\"TAX\",\"PTRATIO\",\"B\",\"LSTAT\",\"MEDV\"]\n",
    "Data = pd.read_csv(\"housing.csv\",names=heads,delim_whitespace=True)\n",
    "data = np.array(Data)\n",
    "scaler = StandardScaler()\n",
    "scaler.fit(data)\n",
    "data_scaled=scaler.transform(data)\n",
    "x_data=np.hsplit(data_scaled,[13,14])[0]\n",
    "y_data=np.hsplit(data_scaled,[13,14])[1]\n",
    "x_train,x_test,y_train,y_test=train_test_split(x_data,y_data,test_size=0.2,shuffle=True,random_state=8)\n",
    "x_train,x_val,y_train,y_val=train_test_split(x_data,y_data,test_size=0.25,shuffle=True,random_state=8)\n",
    "\n"
   ]
  },
  {
   "cell_type": "code",
   "execution_count": 119,
   "metadata": {},
   "outputs": [
    {
     "name": "stdout",
     "output_type": "stream",
     "text": [
      "[0.26870840680634883, 0.13572198647729686, 38.33436402195643, 10.756567661988322, 9.082819425319707, 57.538944719912216]\n",
      "[1, 2, 3, 4, 5, 6]\n"
     ]
    }
   ],
   "source": [
    "mse_a_val=[]\n",
    "x_degree=[]\n",
    "for i in range(6):\n",
    "    i+=1\n",
    "    x_train_poly=PolynomialFeatures(degree=i, include_bias=False).fit_transform(x_train)\n",
    "    model = LinearRegression().fit(x_train_poly, y_train)\n",
    "    x_val_poly=PolynomialFeatures(degree=i, include_bias=False).fit_transform(x_val)\n",
    "    y_val_pred = model.predict(x_val_poly)\n",
    "    mse = mean_squared_error(y_val, y_val_pred)\n",
    "    mse_a_val.append(mse)\n",
    "    x_degree.append(i)\n",
    "min_mse=min(mse_a_val)\n",
    "min_mse_degree=mse_a_val.index(min_mse)+1\n",
    "print(mse_a_val)\n",
    "print(x_degree)"
   ]
  },
  {
   "cell_type": "code",
   "execution_count": 120,
   "metadata": {},
   "outputs": [
    {
     "name": "stdout",
     "output_type": "stream",
     "text": [
      "0.13572198647729686\n",
      "2\n"
     ]
    },
    {
     "data": {
      "image/png": "[encoded data removed]",
      "text/plain": [
       "<Figure size 432x288 with 1 Axes>"
      ]
     },
     "metadata": {
      "needs_background": "light"
     },
     "output_type": "display_data"
    }
   ],
   "source": [
    "plt.plot(x_degree,mse_a_val)\n",
    "print(min_mse)\n",
    "print(min_mse_degree)"
   ]
  },
  {
   "cell_type": "code",
   "execution_count": 121,
   "metadata": {},
   "outputs": [
    {
     "name": "stdout",
     "output_type": "stream",
     "text": [
      "0.13956752319340554\n"
     ]
    }
   ],
   "source": [
    "x_train_poly=PolynomialFeatures(degree=min_mse_degree, include_bias=False).fit_transform(x_train)\n",
    "model = LinearRegression().fit(x_train_poly, y_train)\n",
    "x_test_poly=PolynomialFeatures(degree=min_mse_degree, include_bias=False).fit_transform(x_test)\n",
    "y_test_pred = model.predict(x_test_poly)\n",
    "mse = mean_squared_error(y_test, y_test_pred)\n",
    "print(mse)"
   ]
  },
  {
   "cell_type": "code",
   "execution_count": 143,
   "metadata": {},
   "outputs": [
    {
     "name": "stdout",
     "output_type": "stream",
     "text": [
      "[0.4, 0.5, 0.8, 1.3, 3.5, 3.9000000000000004, 4.9, 5.6000000000000005, 7.4, 7.6000000000000005]\n"
     ]
    }
   ],
   "source": [
    "lambdas = np.arange(0, 10, step=0.1)\n",
    "lambdas_arr=[]\n",
    "for j in range(10):\n",
    "    n=random.randint(0,99)\n",
    "    lambdas_arr.append(lambdas[n])\n",
    "lambdas_arr.sort()\n",
    "print(lambdas_arr)"
   ]
  },
  {
   "cell_type": "code",
   "execution_count": 144,
   "metadata": {},
   "outputs": [
    {
     "name": "stdout",
     "output_type": "stream",
     "text": [
      "[0.3408366725769399, 0.3843894434861227, 0.5300870247254058, 0.8294343481798414, 0.956288993948997, 0.956288993948997, 0.956288993948997, 0.956288993948997, 0.956288993948997, 0.956288993948997]\n",
      "0.3408366725769399\n",
      "0.4\n"
     ]
    }
   ],
   "source": [
    "x_train_poly=PolynomialFeatures(degree=min_mse_degree, include_bias=False).fit_transform(x_train)\n",
    "x_val_poly=PolynomialFeatures(degree=min_mse_degree, include_bias=False).fit_transform(x_val)\n",
    "mse_lambda=[]\n",
    "for j in range(10):\n",
    "    regular = ElasticNet(alpha=lambdas_arr[j],fit_intercept=False,random_state=0,max_iter=100).fit(x_train_poly,y_train)\n",
    "    y_val_pred = regular.predict(x_val_poly)\n",
    "    mse_lambda.append(mean_squared_error(y_val,y_val_pred))\n",
    "print(mse_lambda)\n",
    "perf_lambda_mse=min(mse_lambda)\n",
    "index=mse_lambda.index(perf_lambda_mse)\n",
    "perf_lambda=lambdas_arr[index]\n",
    "print(perf_lambda_mse)\n",
    "print(perf_lambda)"
   ]
  },
  {
   "cell_type": "code",
   "execution_count": 145,
   "metadata": {},
   "outputs": [
    {
     "name": "stdout",
     "output_type": "stream",
     "text": [
      "0.36189792728903836\n"
     ]
    }
   ],
   "source": [
    "x_train_poly=PolynomialFeatures(degree=min_mse_degree, include_bias=False).fit_transform(x_train)\n",
    "x_test_poly=PolynomialFeatures(degree=min_mse_degree, include_bias=False).fit_transform(x_test)\n",
    "regular = ElasticNet(alpha=perf_lambda,fit_intercept=False,random_state=0,max_iter=100).fit(x_train_poly,y_train)\n",
    "y_test_pred = regular.predict(x_test_poly)\n",
    "print(mean_squared_error(y_test,y_test_pred))"
   ]
  },
  {
   "cell_type": "code",
   "execution_count": null,
   "metadata": {},
   "outputs": [],
   "source": []
  }
 ],
 "metadata": {
  "kernelspec": {
   "display_name": "Python 3",
   "language": "python",
   "name": "python3"
  },
  "language_info": {
   "codemirror_mode": {
    "name": "ipython",
    "version": 3
   },
   "file_extension": ".py",
   "mimetype": "text/x-python",
   "name": "python",
   "nbconvert_exporter": "python",
   "pygments_lexer": "ipython3",
   "version": "3.7.4"
  }
 },
 "nbformat": 4,
 "nbformat_minor": 2
}
